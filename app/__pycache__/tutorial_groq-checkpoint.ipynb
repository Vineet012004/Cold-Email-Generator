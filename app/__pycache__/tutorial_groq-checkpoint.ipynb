{
 "cells": [
  {
   "cell_type": "code",
   "execution_count": 1,
   "id": "f71f5c97-a1b9-4f8e-9615-65de529123eb",
   "metadata": {},
   "outputs": [
    {
     "name": "stdout",
     "output_type": "stream",
     "text": [
      "Collecting langchain_groq\n",
      "  Downloading langchain_groq-0.3.5-py3-none-any.whl.metadata (2.6 kB)\n",
      "Collecting langchain-core<1.0.0,>=0.3.67 (from langchain_groq)\n",
      "  Downloading langchain_core-0.3.68-py3-none-any.whl.metadata (5.8 kB)\n",
      "Collecting groq<1,>=0.29.0 (from langchain_groq)\n",
      "  Downloading groq-0.29.0-py3-none-any.whl.metadata (16 kB)\n",
      "Requirement already satisfied: anyio<5,>=3.5.0 in c:\\users\\vineet sharma pc\\anaconda3\\lib\\site-packages (from groq<1,>=0.29.0->langchain_groq) (4.2.0)\n",
      "Requirement already satisfied: distro<2,>=1.7.0 in c:\\users\\vineet sharma pc\\anaconda3\\lib\\site-packages (from groq<1,>=0.29.0->langchain_groq) (1.9.0)\n",
      "Requirement already satisfied: httpx<1,>=0.23.0 in c:\\users\\vineet sharma pc\\anaconda3\\lib\\site-packages (from groq<1,>=0.29.0->langchain_groq) (0.27.0)\n",
      "Requirement already satisfied: pydantic<3,>=1.9.0 in c:\\users\\vineet sharma pc\\anaconda3\\lib\\site-packages (from groq<1,>=0.29.0->langchain_groq) (2.11.7)\n",
      "Requirement already satisfied: sniffio in c:\\users\\vineet sharma pc\\anaconda3\\lib\\site-packages (from groq<1,>=0.29.0->langchain_groq) (1.3.0)\n",
      "Requirement already satisfied: typing-extensions<5,>=4.10 in c:\\users\\vineet sharma pc\\anaconda3\\lib\\site-packages (from groq<1,>=0.29.0->langchain_groq) (4.14.0)\n",
      "Requirement already satisfied: langsmith>=0.3.45 in c:\\users\\vineet sharma pc\\anaconda3\\lib\\site-packages (from langchain-core<1.0.0,>=0.3.67->langchain_groq) (0.4.3)\n",
      "Requirement already satisfied: tenacity!=8.4.0,<10.0.0,>=8.1.0 in c:\\users\\vineet sharma pc\\anaconda3\\lib\\site-packages (from langchain-core<1.0.0,>=0.3.67->langchain_groq) (8.2.3)\n",
      "Requirement already satisfied: jsonpatch<2.0,>=1.33 in c:\\users\\vineet sharma pc\\anaconda3\\lib\\site-packages (from langchain-core<1.0.0,>=0.3.67->langchain_groq) (1.33)\n",
      "Requirement already satisfied: PyYAML>=5.3 in c:\\users\\vineet sharma pc\\anaconda3\\lib\\site-packages (from langchain-core<1.0.0,>=0.3.67->langchain_groq) (6.0.1)\n",
      "Requirement already satisfied: packaging<25,>=23.2 in c:\\users\\vineet sharma pc\\anaconda3\\lib\\site-packages (from langchain-core<1.0.0,>=0.3.67->langchain_groq) (24.1)\n",
      "Requirement already satisfied: idna>=2.8 in c:\\users\\vineet sharma pc\\anaconda3\\lib\\site-packages (from anyio<5,>=3.5.0->groq<1,>=0.29.0->langchain_groq) (3.7)\n",
      "Requirement already satisfied: certifi in c:\\users\\vineet sharma pc\\anaconda3\\lib\\site-packages (from httpx<1,>=0.23.0->groq<1,>=0.29.0->langchain_groq) (2025.6.15)\n",
      "Requirement already satisfied: httpcore==1.* in c:\\users\\vineet sharma pc\\anaconda3\\lib\\site-packages (from httpx<1,>=0.23.0->groq<1,>=0.29.0->langchain_groq) (1.0.2)\n",
      "Requirement already satisfied: h11<0.15,>=0.13 in c:\\users\\vineet sharma pc\\anaconda3\\lib\\site-packages (from httpcore==1.*->httpx<1,>=0.23.0->groq<1,>=0.29.0->langchain_groq) (0.14.0)\n",
      "Requirement already satisfied: jsonpointer>=1.9 in c:\\users\\vineet sharma pc\\anaconda3\\lib\\site-packages (from jsonpatch<2.0,>=1.33->langchain-core<1.0.0,>=0.3.67->langchain_groq) (2.1)\n",
      "Requirement already satisfied: orjson<4.0.0,>=3.9.14 in c:\\users\\vineet sharma pc\\anaconda3\\lib\\site-packages (from langsmith>=0.3.45->langchain-core<1.0.0,>=0.3.67->langchain_groq) (3.10.18)\n",
      "Requirement already satisfied: requests<3,>=2 in c:\\users\\vineet sharma pc\\anaconda3\\lib\\site-packages (from langsmith>=0.3.45->langchain-core<1.0.0,>=0.3.67->langchain_groq) (2.32.3)\n",
      "Requirement already satisfied: requests-toolbelt<2.0.0,>=1.0.0 in c:\\users\\vineet sharma pc\\anaconda3\\lib\\site-packages (from langsmith>=0.3.45->langchain-core<1.0.0,>=0.3.67->langchain_groq) (1.0.0)\n",
      "Requirement already satisfied: zstandard<0.24.0,>=0.23.0 in c:\\users\\vineet sharma pc\\anaconda3\\lib\\site-packages (from langsmith>=0.3.45->langchain-core<1.0.0,>=0.3.67->langchain_groq) (0.23.0)\n",
      "Requirement already satisfied: annotated-types>=0.6.0 in c:\\users\\vineet sharma pc\\anaconda3\\lib\\site-packages (from pydantic<3,>=1.9.0->groq<1,>=0.29.0->langchain_groq) (0.6.0)\n",
      "Requirement already satisfied: pydantic-core==2.33.2 in c:\\users\\vineet sharma pc\\anaconda3\\lib\\site-packages (from pydantic<3,>=1.9.0->groq<1,>=0.29.0->langchain_groq) (2.33.2)\n",
      "Requirement already satisfied: typing-inspection>=0.4.0 in c:\\users\\vineet sharma pc\\anaconda3\\lib\\site-packages (from pydantic<3,>=1.9.0->groq<1,>=0.29.0->langchain_groq) (0.4.1)\n",
      "Requirement already satisfied: charset-normalizer<4,>=2 in c:\\users\\vineet sharma pc\\anaconda3\\lib\\site-packages (from requests<3,>=2->langsmith>=0.3.45->langchain-core<1.0.0,>=0.3.67->langchain_groq) (3.3.2)\n",
      "Requirement already satisfied: urllib3<3,>=1.21.1 in c:\\users\\vineet sharma pc\\anaconda3\\lib\\site-packages (from requests<3,>=2->langsmith>=0.3.45->langchain-core<1.0.0,>=0.3.67->langchain_groq) (2.2.3)\n",
      "Downloading langchain_groq-0.3.5-py3-none-any.whl (15 kB)\n",
      "Downloading groq-0.29.0-py3-none-any.whl (130 kB)\n",
      "Downloading langchain_core-0.3.68-py3-none-any.whl (441 kB)\n",
      "Installing collected packages: groq, langchain-core, langchain_groq\n",
      "  Attempting uninstall: langchain-core\n",
      "    Found existing installation: langchain-core 0.3.66\n",
      "    Uninstalling langchain-core-0.3.66:\n",
      "      Successfully uninstalled langchain-core-0.3.66\n",
      "Successfully installed groq-0.29.0 langchain-core-0.3.68 langchain_groq-0.3.5\n",
      "Note: you may need to restart the kernel to use updated packages.\n"
     ]
    }
   ],
   "source": [
    "pip install langchain_groq\n"
   ]
  },
  {
   "cell_type": "code",
   "execution_count": 2,
   "id": "1a526d46-823d-4607-a895-ff61569cad8e",
   "metadata": {},
   "outputs": [
    {
     "name": "stdout",
     "output_type": "stream",
     "text": [
      "The first person to land on the moon was Neil Armstrong. He stepped out of the lunar module Eagle and onto the moon's surface on July 20, 1969, during the Apollo 11 mission. Armstrong famously declared, \"That's one small step for man, one giant leap for mankind,\" as he became the first human to set foot on the moon.\n"
     ]
    }
   ],
   "source": [
    "from langchain_groq import ChatGroq\n",
    "\n",
    "llm = ChatGroq(\n",
    "    temperature = 0,\n",
    "    groq_api_key = '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',\n",
    "    model_name = \"llama-3.1-8b-instant\"\n",
    ")\n",
    "\n",
    "response = llm.invoke(\"The first person to land on the moon was...\")\n",
    "print(response.content)"
   ]
  },
  {
   "cell_type": "code",
   "execution_count": null,
   "id": "ed0b4994-f46b-4092-a2ef-f6684d3e19ed",
   "metadata": {},
   "outputs": [],
   "source": [
    "pip install chromadb"
   ]
  },
  {
   "cell_type": "code",
   "execution_count": null,
   "id": "9ad8f91e-661a-41ce-af63-4e740a8dda67",
   "metadata": {},
   "outputs": [],
   "source": []
  }
 ],
 "metadata": {
  "kernelspec": {
   "display_name": "Python 3 (ipykernel)",
   "language": "python",
   "name": "python3"
  },
  "language_info": {
   "codemirror_mode": {
    "name": "ipython",
    "version": 3
   },
   "file_extension": ".py",
   "mimetype": "text/x-python",
   "name": "python",
   "nbconvert_exporter": "python",
   "pygments_lexer": "ipython3",
   "version": "3.12.3"
  }
 },
 "nbformat": 4,
 "nbformat_minor": 5
}
