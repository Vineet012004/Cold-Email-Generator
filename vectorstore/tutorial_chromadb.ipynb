{
 "cells": [
  {
   "cell_type": "code",
   "execution_count": 2,
   "id": "f71f5c97-a1b9-4f8e-9615-65de529123eb",
   "metadata": {},
   "outputs": [],
   "source": [
    "import chromadb\n",
    "\n",
    "client = chromadb.Client()\n",
    "collection = client.create_collection(name=\"my_collection\")"
   ]
  },
  {
   "cell_type": "code",
   "execution_count": 3,
   "id": "5155f791-a78e-42c2-b0c8-6a909098accc",
   "metadata": {},
   "outputs": [
    {
     "name": "stderr",
     "output_type": "stream",
     "text": [
      "C:\\Users\\VINEET SHARMA PC\\.cache\\chroma\\onnx_models\\all-MiniLM-L6-v2\\onnx.tar.gz: 100%|█| 79.3M/79.3M [01:43<00:00, 803\n"
     ]
    }
   ],
   "source": [
    "collection.add(\n",
    "    documents=[\n",
    "        \"this documnet is about New York\",\n",
    "        \"This document is regarding Delhi\"\n",
    "    ],\n",
    "    ids = ['id1','id2']\n",
    ")"
   ]
  },
  {
   "cell_type": "code",
   "execution_count": 4,
   "id": "8ca1e94a-85b5-4407-ac51-975d098c2708",
   "metadata": {},
   "outputs": [
    {
     "data": {
      "text/plain": [
       "{'ids': ['id1', 'id2'],\n",
       " 'embeddings': None,\n",
       " 'documents': ['this documnet is about New York',\n",
       "  'This document is regarding Delhi'],\n",
       " 'uris': None,\n",
       " 'included': ['metadatas', 'documents'],\n",
       " 'data': None,\n",
       " 'metadatas': [None, None]}"
      ]
     },
     "execution_count": 4,
     "metadata": {},
     "output_type": "execute_result"
    }
   ],
   "source": [
    "all_docs = collection.get()\n",
    "all_docs"
   ]
  },
  {
   "cell_type": "code",
   "execution_count": 5,
   "id": "1ec03aaf-0fa9-4e13-8732-2b320b213934",
   "metadata": {},
   "outputs": [
    {
     "data": {
      "text/plain": [
       "{'ids': ['id1'],\n",
       " 'embeddings': None,\n",
       " 'documents': ['this documnet is about New York'],\n",
       " 'uris': None,\n",
       " 'included': ['metadatas', 'documents'],\n",
       " 'data': None,\n",
       " 'metadatas': [None]}"
      ]
     },
     "execution_count": 5,
     "metadata": {},
     "output_type": "execute_result"
    }
   ],
   "source": [
    "documents = collection.get(ids=[\"id1\"])\n",
    "documents"
   ]
  },
  {
   "cell_type": "code",
   "execution_count": 8,
   "id": "972721d1-865e-431f-a25d-2a54268187f9",
   "metadata": {},
   "outputs": [
    {
     "data": {
      "text/plain": [
       "{'ids': [['id2', 'id1']],\n",
       " 'embeddings': None,\n",
       " 'documents': [['This document is regarding Delhi',\n",
       "   'this documnet is about New York']],\n",
       " 'uris': None,\n",
       " 'included': ['metadatas', 'documents', 'distances'],\n",
       " 'data': None,\n",
       " 'metadatas': [[None, None]],\n",
       " 'distances': [[1.6188949346542358, 1.6636348962783813]]}"
      ]
     },
     "execution_count": 8,
     "metadata": {},
     "output_type": "execute_result"
    }
   ],
   "source": [
    "results = collection.query(\n",
    "    query_texts = [\"Query is about Lassi\"],\n",
    "    n_results=2\n",
    ")\n",
    "results"
   ]
  },
  {
   "cell_type": "code",
   "execution_count": 10,
   "id": "28177a69-bdca-4729-b29b-8611ae3056d3",
   "metadata": {},
   "outputs": [],
   "source": [
    "collection.add(\n",
    "    documents=[\n",
    "        \"This document is about New York\",\n",
    "        \"This document is about Delhi\"\n",
    "    ],\n",
    "    ids = [\"ids3\",\"id4\"],\n",
    "    metadatas=[\n",
    "        {\"url\":\"https//en.wikipedia.org/wiki/New_York_City\"},\n",
    "        {\"url\":\"https://en.wikipedia.org/wiki/New_Delhi\"}\n",
    "    ]\n",
    ")"
   ]
  },
  {
   "cell_type": "code",
   "execution_count": 11,
   "id": "0db7982f-dc80-42c9-8893-42204121e04c",
   "metadata": {},
   "outputs": [
    {
     "data": {
      "text/plain": [
       "{'ids': [['id4', 'id2']],\n",
       " 'embeddings': None,\n",
       " 'documents': [['This document is about Delhi',\n",
       "   'This document is regarding Delhi']],\n",
       " 'uris': None,\n",
       " 'included': ['metadatas', 'documents', 'distances'],\n",
       " 'data': None,\n",
       " 'metadatas': [[{'url': 'https://en.wikipedia.org/wiki/New_Delhi'}, None]],\n",
       " 'distances': [[1.616676926612854, 1.6188949346542358]]}"
      ]
     },
     "execution_count": 11,
     "metadata": {},
     "output_type": "execute_result"
    }
   ],
   "source": [
    "results = collection.query(\n",
    "    query_texts = [\"Query is about Lassi\"],\n",
    "    n_results=2\n",
    ")\n",
    "results"
   ]
  }
 ],
 "metadata": {
  "kernelspec": {
   "display_name": "Python 3 (ipykernel)",
   "language": "python",
   "name": "python3"
  },
  "language_info": {
   "codemirror_mode": {
    "name": "ipython",
    "version": 3
   },
   "file_extension": ".py",
   "mimetype": "text/x-python",
   "name": "python",
   "nbconvert_exporter": "python",
   "pygments_lexer": "ipython3",
   "version": "3.12.3"
  }
 },
 "nbformat": 4,
 "nbformat_minor": 5
}
